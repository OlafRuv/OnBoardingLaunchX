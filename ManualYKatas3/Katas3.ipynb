{
 "cells": [
  {
   "cell_type": "markdown",
   "metadata": {},
   "source": [
    "# Ejercicio - Escribir declaraciones if, else, y elif# Ejercicio - Escribir declaraciones `if`, `else`, y `elif`\n",
    "\n",
    "Las instrucciones `If` te permiten ejecutar condicionalmente código Python. Se usan comúnmente en Python para \"tomar decisiones\" sobre lo que debería suceder a continuación mientras se ejecuta un programa.\n",
    "\n",
    "Para crear una instrucción `if` en Python, define una expresión de prueba que pueda tener un valor `True` o `False`, seguido de un bloque de código con sangría que se ejecutará si se cumple la condición.  \n",
    "\n",
    "```python\n",
    "if expresion_prueba:\n",
    "    # intrucción(es) a ejecutar\n",
    "```\n",
    "\n",
    "Para escribir un programa con una lógica condicional más compleja, puedes agregar instrucciones `else` y `elif` al bloque de código. También puedes anidar instrucciones condicionales. \n",
    "\n",
    "\n",
    "```python\n",
    "if expresion_prueba:\n",
    "    # intrucción(es) a ejecutar\n",
    "    if expresion_prueba:\n",
    "        # intrucción(es) a ejecutar\n",
    "    else: \n",
    "        # intrucción(es) a ejecutar\n",
    "elif expresion_prueba:\n",
    "    # intrucción(es) a ejecutar\n",
    "else:\n",
    "    # intrucción(es) a ejecutar\n",
    "```\n",
    "\n",
    "> **TIP**\n",
    "> Dedica unos minutos a tratar de encontrar una solución. Luego desplázate hacia abajo hasta la parte inferior para ver si has logrado compilar el programa de acuerdo con las especificaciones.\n",
    "\n",
    "Para este ejercicio, escribirás una lógica condicional que imprima una advertencia si un asteroide se acerca a la Tierra demasiado rápido. La velocidad del asteroide varía dependiendo de lo cerca que esté del sol, y cualquier velocidad superior a 25 kilómetros por segundo (km/s) merece una advertencia.\n",
    "\n",
    "Un asteroide se acerca, y viaja a una velocidad de 49 km/s."
   ]
  },
  {
   "cell_type": "code",
   "execution_count": 3,
   "metadata": {},
   "outputs": [
    {
     "name": "stdout",
     "output_type": "stream",
     "text": [
      "Advertencia: \n",
      "El asteroide viaja a una gran velocidad de 49.0km/s \n",
      "Representa una amenaza \n",
      "Comenzar Evacuacion\n"
     ]
    }
   ],
   "source": [
    "# Añadir el código necesario para crear una variable que guarde la velocidad del asteroide.\n",
    "# Escribe una expresión de prueba para calcular si necesita una advertencia.\n",
    "# Agregue las instrucciones que se ejecutarán si la expresión de prueba es true o false.\n",
    "\n",
    "################### EL EJERCICIO REQUIERE UN INPUT DE 49KM/S ################### \n",
    "\n",
    "while True:\n",
    "    try:\n",
    "        velocidad = float(input(\"Ingrese la velocidad del asteroide\"))\n",
    "        if velocidad > 25:\n",
    "            print(\"Advertencia: \\nEl asteroide viaja a una gran velocidad de {}km/s \\nRepresenta una amenaza \\nComenzar Evacuacion\".format(velocidad))\n",
    "        else:\n",
    "            print(\"Se acerca un asteroide a la tierra \\nSin embargo su velocidad es muy baja {}km/s \\nNo representa peligro alguno\".format(velocidad))\n",
    "        break\n",
    "    except ValueError:\n",
    "        print(\"Ingresaste un valor erroneo\")"
   ]
  },
  {
   "cell_type": "markdown",
   "metadata": {},
   "source": [
    "> Ejercicio #2"
   ]
  },
  {
   "cell_type": "markdown",
   "metadata": {},
   "source": [
    "Si un asteroide entra en la atmósfera de la Tierra a una velocidad mayor o igual a 20 km/s, a veces produce un rayo de luz que se puede ver desde la Tierra. Escribe la lógica condicional que usa declaraciones if, else, y elif para alertar a las personas de todo el mundo que deben buscar un asteroide en el cielo. ¡Hay uno que se dirige a la tierra ahora a una velocidad de 19 km/s!"
   ]
  },
  {
   "cell_type": "code",
   "execution_count": 4,
   "metadata": {},
   "outputs": [
    {
     "name": "stdout",
     "output_type": "stream",
     "text": [
      "Advertencia: \n",
      "El asteroide viaja a una gran velocidad de 20.0km/s \n",
      "Representa una amenaza \n",
      "VOLTEAR AL CIELO Y BUSCAR EL RAYO DE LUZ QUE PRODUCE EL ASTEROIDE\n",
      "En caso de ver el rato de luz\n",
      "Comenzar Evacuacion\n"
     ]
    }
   ],
   "source": [
    "# Agrega el código para crear una variable para un asteroide que viaja a 19 km/s\n",
    "# Escribe varias expresiones de prueba para determinar si puedes ver el rayo de luz desde la tierra\n",
    "# Agrega las instrucciones que se ejecutarán si las expresiones de prueba son True o False\n",
    "\n",
    "\n",
    "################### EL EJERCICIO REQUIERE UN INPUT DE 19KM/S ################### \n",
    "\n",
    "while True:\n",
    "    try:\n",
    "        velocidad = float(input(\"Ingrese la velocidad del asteroide\"))\n",
    "        if velocidad > 20:\n",
    "            print(\"Advertencia: \\nEl asteroide viaja a una velocidad de {}km/s \\nVOLTEAR AL CIELO Y BUSCAR EL RAYO DE LUZ QUE PRODUCE EL ASTEROIDE\\nEn caso de ver el rayo de luz\\nComenzar Evacuacion\".format(velocidad))\n",
    "        elif velocidad == 20:\n",
    "            print(\"Advertencia: \\nEl asteroide viaja a una velocidad de {}km/s \\nVOLTEAR AL CIELO Y BUSCAR EL RAYO DE LUZ QUE PRODUCE EL ASTEROIDE\\nEn caso de ver el rayo de luz\\nComenzar Evacuacion\".format(velocidad))\n",
    "        else:\n",
    "            print(\"Se acerca un asteroide a la tierra \\nSin embargo su velocidad es muy baja {}km/s \\nNo representa peligro alguno\".format(velocidad))\n",
    "        break\n",
    "    except ValueError:\n",
    "        print(\"Ingresaste un valor erroneo\")"
   ]
  },
  {
   "cell_type": "markdown",
   "metadata": {},
   "source": [
    "# Ejercicio: Uso de operadores `and` y `or` \n",
    "\n",
    "En el ejercicio anterior, trabajó con sentencias `if`, `else`, y `elif` para escribir programas con lógica condicional compleja. Para crear expresiones booleanas aún más interesantes, puede usar los operadores `and` y `or` en Python.\n",
    "\n",
    "Las expresiones `and` son sólo si ambas subexpresiones son verdaderas.\n",
    "\n",
    "`expresión1 and expresión2`\n",
    "\n",
    "Las expresiones `or` son `True` si *al menos una* subexpresión es verdadera.\n",
    "\n",
    "`expresión1 or expresión2`\n",
    "\n",
    "En este ejercicio, aprenderás información más matizada sobre cuándo los asteroides representan un peligro para la Tierra, y utilizarás esa información para mejorar nuestro sistema de advertencia. Aquí está la nueva información que necesitas saber:\n",
    "\n",
    "*Los asteroides de menos de 25 metros en su dimensión más grande probablemente se quemarán a medida que entren en la atmósfera de la Tierra.\n",
    "* Si una pieza de un asteroide que es más grande que 25 metros pero más pequeña que 1000 metros golpeara la Tierra, causaría mucho daño.\n",
    "\n",
    "También discutimos en el ejercicio anterior que:\n",
    "\n",
    "* La velocidad del asteroide varía en función de lo cerca que esté del sol, y cualquier velocidad superior a 25 kilómetros por segundo (km/s) merece una advertencia.\n",
    "* Si un asteroide entra en la atmósfera de la Tierra a una velocidad mayor o igual a 20 km/s, a veces produce un rayo de luz que se puede ver desde la Tierra.\n",
    "\n",
    "Usando toda esta información, escribe un programa que emita la advertencia o información correcta a la gente de la Tierra, según la velocidad y el tamaño de un asteroide. Utiliza instrucciones `if`, `else`, y `elif`, así como los operadores `and` y `or`."
   ]
  },
  {
   "cell_type": "code",
   "execution_count": 13,
   "metadata": {},
   "outputs": [
    {
     "name": "stdout",
     "output_type": "stream",
     "text": [
      "Advertencia: \n",
      "El asteroide viaja a una velocidad de 20.0km/s y tiene una dimension de 24.0mts\n",
      "Si se observa un rayo de luz en el cielo\n",
      "Evacuar Inmediatamente\n"
     ]
    }
   ],
   "source": [
    "# Agrega el código para crear nuevas variables para la velocidad y el tamaño del asteroide\n",
    "# Para probar el código, prueba con varias velocidades y tamaños\n",
    "# Escribe varias expresiones de prueba o combinaciones de expresiones de prueba para determinar qué mensaje se debe enviar a Tierra.\n",
    "\n",
    "while True:\n",
    "    try:\n",
    "        dimension = float(input(\"Ingrese la dimension del asteroide\"))\n",
    "        velocidad = float(input(\"Ingrese la velocidad del asteroide\"))\n",
    "        if dimension > 25 or velocidad > 25:\n",
    "            print(\"Advertencia: \\nEl asteroide viaja a una velocidad de {}km/s y tiene una dimension de {}mts\\nOcasionara mucho danio\\nEvacuar Inmediatamente\".format(velocidad,dimension))\n",
    "        elif velocidad <= 25 and velocidad  >= 20:\n",
    "            print(\"Advertencia: \\nEl asteroide viaja a una velocidad de {}km/s y tiene una dimension de {}mts\\nSi se observa un rayo de luz en el cielo\\nEvacuar Inmediatamente\".format(velocidad,dimension))\n",
    "        else:\n",
    "            print(\"Se acerca un asteroide a la tierra \\nSin embargo su velocidad es muy baja: {}km/s\\n Y su dimension tambien lo es: {}mts \\nNo representa peligro alguno\".format(velocidad,dimension))\n",
    "        break\n",
    "    except ValueError:\n",
    "        print(\"Ingresaste un valor erroneo\")\n",
    "\n"
   ]
  }
 ],
 "metadata": {
  "interpreter": {
   "hash": "6f7c4d44365b28014734406e4d617c1e1f76ea196def854c7b951a230f6e24f1"
  },
  "kernelspec": {
   "display_name": "Python 3.9.5 64-bit",
   "language": "python",
   "name": "python3"
  },
  "language_info": {
   "codemirror_mode": {
    "name": "ipython",
    "version": 3
   },
   "file_extension": ".py",
   "mimetype": "text/x-python",
   "name": "python",
   "nbconvert_exporter": "python",
   "pygments_lexer": "ipython3",
   "version": "3.9.5"
  },
  "orig_nbformat": 4
 },
 "nbformat": 4,
 "nbformat_minor": 2
}
